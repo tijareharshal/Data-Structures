{
 "cells": [
  {
   "cell_type": "code",
   "execution_count": 238,
   "metadata": {},
   "outputs": [],
   "source": [
    "class Node:\n",
    "    def __init__(self, value):\n",
    "        self.value = value\n",
    "        self.next = None\n",
    "        \n",
    "class LinkedList:\n",
    "    def __init__(self):\n",
    "        self.head = None\n",
    "        self.tail = self.head\n",
    "        self.length = 0\n",
    "        \n",
    "    def append(self, value):\n",
    "        new_node = Node(value)\n",
    "        \n",
    "        if self.head == None:\n",
    "            self.head = new_node\n",
    "            self.tail = self.head\n",
    "            self.length += 1\n",
    "        else:\n",
    "            self.tail.next = new_node\n",
    "            self.tail = new_node\n",
    "            self.length += 1\n",
    "            \n",
    "    def prepend(self, value):\n",
    "        new_node = Node(value)\n",
    "        \n",
    "        if self.head == None:\n",
    "            self.head = new_node\n",
    "            self.tail = self.head\n",
    "            self.length += 1\n",
    "        else:\n",
    "            new_node.next = self.head\n",
    "            self.head = new_node\n",
    "            self.length += 1\n",
    "            \n",
    "    def print_list(self):\n",
    "        if self.head == None:\n",
    "            print(\"The list is empty.\")\n",
    "            return\n",
    "        \n",
    "        else:\n",
    "            current_node = self.head\n",
    "            while current_node != None:\n",
    "                print(current_node.value, end = '-->')\n",
    "                current_node = current_node.next\n",
    "            print('None')\n",
    "            \n",
    "    def insert(self, index, value):\n",
    "        if index == 0:\n",
    "            self.prepend(value)\n",
    "            \n",
    "        elif index >= self.length:\n",
    "            if index > self.length:\n",
    "                print(\"Index greater than length of the list. Inserting at the end.\")\n",
    "                self.append(value)\n",
    "            else:\n",
    "                self.append(value)\n",
    "                \n",
    "        else:\n",
    "            new_node = Node(value)\n",
    "            current_node = self.head\n",
    "            for i in range(index - 1):\n",
    "                current_node = current_node.next\n",
    "            new_node.next = current_node.next\n",
    "            current_node.next = new_node\n",
    "            self.length += 1\n",
    "            \n",
    "            \n",
    "    def delete(self, index):\n",
    "        if self.head == None:\n",
    "            print(\"List is empty. Nothing to delete.\")\n",
    "            \n",
    "        elif index < 0:\n",
    "            print(\"Enter a valid index.\")\n",
    "        \n",
    "        elif index == 0:\n",
    "            self.head = self.head.next\n",
    "            if self.head.next == None:\n",
    "                self.tail == self.head\n",
    "            self.length -= 1\n",
    "            return\n",
    "        \n",
    "        elif index >= self.length:\n",
    "            index = self.length-1\n",
    "            print(\"Index greater than length. Deleting last node.\")\n",
    "            current_node = self.head\n",
    "            for i in range(index-1):\n",
    "                current_node = current_node.next\n",
    "            current_node.next = current_node.next.next\n",
    "            self.tail = current_node\n",
    "            self.length -= 1\n",
    "            \n",
    "        else:\n",
    "            current_node = self.head\n",
    "            for i in range(index-1):\n",
    "                current_node = current_node.next\n",
    "            current_node.next = current_node.next.next\n",
    "            self.length -= 1 "
   ]
  },
  {
   "cell_type": "code",
   "execution_count": 224,
   "metadata": {},
   "outputs": [],
   "source": [
    "l1 = LinkedList()\n",
    "l1.append(5)\n",
    "l1.append(100)\n",
    "l1.append(3)"
   ]
  },
  {
   "cell_type": "code",
   "execution_count": 225,
   "metadata": {},
   "outputs": [],
   "source": [
    "l1.insert(1, 25)"
   ]
  },
  {
   "cell_type": "code",
   "execution_count": 226,
   "metadata": {},
   "outputs": [
    {
     "name": "stdout",
     "output_type": "stream",
     "text": [
      "5-->25-->100-->3-->None\n"
     ]
    }
   ],
   "source": [
    "l1.print_list()"
   ]
  },
  {
   "cell_type": "code",
   "execution_count": 227,
   "metadata": {},
   "outputs": [],
   "source": [
    "l1.insert(2, 95)"
   ]
  },
  {
   "cell_type": "code",
   "execution_count": 228,
   "metadata": {},
   "outputs": [
    {
     "name": "stdout",
     "output_type": "stream",
     "text": [
      "5-->25-->95-->100-->3-->None\n"
     ]
    }
   ],
   "source": [
    "l1.print_list()"
   ]
  },
  {
   "cell_type": "code",
   "execution_count": 229,
   "metadata": {},
   "outputs": [],
   "source": [
    "l1.insert(0, 1)"
   ]
  },
  {
   "cell_type": "code",
   "execution_count": 230,
   "metadata": {},
   "outputs": [
    {
     "name": "stdout",
     "output_type": "stream",
     "text": [
      "1-->5-->25-->95-->100-->3-->None\n"
     ]
    }
   ],
   "source": [
    "l1.print_list()"
   ]
  },
  {
   "cell_type": "code",
   "execution_count": 231,
   "metadata": {},
   "outputs": [
    {
     "name": "stdout",
     "output_type": "stream",
     "text": [
      "Index greater than length of the list. Inserting at the end.\n"
     ]
    }
   ],
   "source": [
    "l1.insert(10, 99)"
   ]
  },
  {
   "cell_type": "code",
   "execution_count": 232,
   "metadata": {},
   "outputs": [
    {
     "name": "stdout",
     "output_type": "stream",
     "text": [
      "1-->5-->25-->95-->100-->3-->99-->None\n"
     ]
    }
   ],
   "source": [
    "l1.print_list()"
   ]
  },
  {
   "cell_type": "code",
   "execution_count": 233,
   "metadata": {},
   "outputs": [],
   "source": [
    "l1.delete(3)"
   ]
  },
  {
   "cell_type": "code",
   "execution_count": 234,
   "metadata": {},
   "outputs": [
    {
     "name": "stdout",
     "output_type": "stream",
     "text": [
      "1-->5-->25-->100-->3-->99-->None\n"
     ]
    }
   ],
   "source": [
    "l1.print_list()"
   ]
  },
  {
   "cell_type": "code",
   "execution_count": 235,
   "metadata": {},
   "outputs": [
    {
     "name": "stdout",
     "output_type": "stream",
     "text": [
      "6\n"
     ]
    }
   ],
   "source": [
    "print(l1.length)"
   ]
  },
  {
   "cell_type": "code",
   "execution_count": 236,
   "metadata": {},
   "outputs": [],
   "source": [
    "l1.delete(2)"
   ]
  },
  {
   "cell_type": "code",
   "execution_count": 237,
   "metadata": {},
   "outputs": [
    {
     "name": "stdout",
     "output_type": "stream",
     "text": [
      "1-->5-->100-->3-->99-->None\n"
     ]
    }
   ],
   "source": [
    "l1.print_list()"
   ]
  }
 ],
 "metadata": {
  "kernelspec": {
   "display_name": "Python 3",
   "language": "python",
   "name": "python3"
  },
  "language_info": {
   "codemirror_mode": {
    "name": "ipython",
    "version": 3
   },
   "file_extension": ".py",
   "mimetype": "text/x-python",
   "name": "python",
   "nbconvert_exporter": "python",
   "pygments_lexer": "ipython3",
   "version": "3.8.5"
  }
 },
 "nbformat": 4,
 "nbformat_minor": 4
}
